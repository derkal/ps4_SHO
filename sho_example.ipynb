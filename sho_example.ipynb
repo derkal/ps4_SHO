{
 "cells": [
  {
   "cell_type": "code",
   "execution_count": 1,
   "metadata": {},
   "outputs": [],
   "source": [
    "#import statements\n",
    "\n",
    "import numpy as np\n",
    "import matplotlib.pyplot as plt"
   ]
  },
  {
   "cell_type": "code",
   "execution_count": 2,
   "metadata": {},
   "outputs": [],
   "source": [
    "# define a list of integers which we will use in the sums\n",
    "\n",
    "l = np.arange(0.,10000,1)"
   ]
  },
  {
   "cell_type": "code",
   "execution_count": 3,
   "metadata": {},
   "outputs": [],
   "source": [
    "# partition function for the simple harmonic oscillator (SHO)\n",
    "# and x = (k_B T)/(hbar omega) which is a measure of the thermal energy relative to the energy spacing for a SHO\n",
    "\n",
    "def Z_SHO(x):\n",
    "    return np.sum(np.exp(-(n+0.5)/x) for n in l)"
   ]
  },
  {
   "cell_type": "code",
   "execution_count": 4,
   "metadata": {},
   "outputs": [],
   "source": [
    "# expected energy for the simple harmonic oscillator in units of hbar*omega\n",
    "# i.e. this is < E >/(hbar*omega)\n",
    "\n",
    "def E_SHO(x):\n",
    "    return np.sum((n+0.5)*np.exp(-(n+0.5)/x) for n in l)/Z_SHO(x)"
   ]
  },
  {
   "cell_type": "code",
   "execution_count": 5,
   "metadata": {},
   "outputs": [],
   "source": [
    "# heat capacity for a simple harmonic oscillator in units of k_B (Bolzmann's constant)\n",
    "# i.e. this is C_V/k_B where C_V = d<E>/dT\n",
    "\n",
    "def Cv_SHO(x):\n",
    "    return np.sum((n+0.5)**2./x**2.*np.exp(-(n+0.5)/x) for n in l)/Z_SHO(x)-E_SHO(x)**2./x**2."
   ]
  },
  {
   "cell_type": "code",
   "execution_count": 6,
   "metadata": {},
   "outputs": [
    {
     "name": "stderr",
     "output_type": "stream",
     "text": [
      "/opt/local/Library/Frameworks/Python.framework/Versions/3.7/lib/python3.7/site-packages/ipykernel_launcher.py:5: DeprecationWarning: Calling np.sum(generator) is deprecated, and in the future will give a different result. Use np.sum(np.fromiter(generator)) or the python sum builtin instead.\n",
      "  \"\"\"\n",
      "/opt/local/Library/Frameworks/Python.framework/Versions/3.7/lib/python3.7/site-packages/ipykernel_launcher.py:5: RuntimeWarning: divide by zero encountered in true_divide\n",
      "  \"\"\"\n",
      "/opt/local/Library/Frameworks/Python.framework/Versions/3.7/lib/python3.7/site-packages/ipykernel_launcher.py:5: RuntimeWarning: invalid value encountered in multiply\n",
      "  \"\"\"\n",
      "/opt/local/Library/Frameworks/Python.framework/Versions/3.7/lib/python3.7/site-packages/ipykernel_launcher.py:5: RuntimeWarning: invalid value encountered in true_divide\n",
      "  \"\"\"\n"
     ]
    },
    {
     "data": {
      "image/png": "[encoded data removed]",
      "text/plain": [
       "<Figure size 432x288 with 1 Axes>"
      ]
     },
     "metadata": {
      "needs_background": "light"
     },
     "output_type": "display_data"
    }
   ],
   "source": [
    "xarr = np.arange(0.,100.,0.01)\n",
    "plt.plot(xarr,Cv_SHO(xarr),c='k')\n",
    "plt.xscale('log')\n",
    "plt.xlabel(r'$k_B T/\\hbar\\omega$',fontsize=12)\n",
    "plt.ylabel(r'$C_V/k_B$',fontsize=12)\n",
    "plt.gca().tick_params(labelsize=12)\n",
    "plt.tight_layout()"
   ]
  },
  {
   "cell_type": "code",
   "execution_count": 7,
   "metadata": {},
   "outputs": [],
   "source": [
    "# Now do this for the rotator which has energies hbar^2*l*(l+1)/(2*I) with a degeneracy of (2*l+1)\n",
    "# where I is the moment of inertia and l goes from 0 to infinity\n",
    "# Here, you want to do things in terms of x = (k_B T)/(hbar^2/(2I))\n",
    "# Remember that to get the partition function, you sum the degeneracy of each state with its Boltzmann factor\n",
    "# For the rotator this would be sum((2*l+1)*exp(-l*(l+1)/x)) where the sum is from l=0 to infinity\n",
    "# You then differentiate this with respect to beta, or equivalently include the energy of each state in the sum, \n",
    "# to get the mean energy\n",
    "# Then you differentiate this with respect to the temperature to get the heat capacity\n",
    "# I recommend you figure out these expressions on paper before you put them into python"
   ]
  },
  {
   "cell_type": "code",
   "execution_count": 8,
   "metadata": {},
   "outputs": [],
   "source": [
    "# And then do it for the translation direction which the energies are hbar^2*pi^2*n^2/(2*m*L^2)\n",
    "# where m is the mass of the particle, L is the length of the box, and n goes from 1 to infinity\n",
    "# Here you want to do things in terms of x = (k_B T)/(hbar^2*pi^2/(2*m*L^2))"
   ]
  }
 ],
 "metadata": {
  "kernelspec": {
   "display_name": "Python 3",
   "language": "python",
   "name": "python3"
  },
  "language_info": {
   "codemirror_mode": {
    "name": "ipython",
    "version": 3
   },
   "file_extension": ".py",
   "mimetype": "text/x-python",
   "name": "python",
   "nbconvert_exporter": "python",
   "pygments_lexer": "ipython3",
   "version": "3.7.5"
  }
 },
 "nbformat": 4,
 "nbformat_minor": 2
}
